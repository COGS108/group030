{
 "cells": [
  {
   "cell_type": "markdown",
   "metadata": {},
   "source": [
    "# COGS 108 - Final Project - Crime Watch Effectiveness and Distribution"
   ]
  },
  {
   "cell_type": "markdown",
   "metadata": {},
   "source": [
    "# Overview"
   ]
  },
  {
   "cell_type": "markdown",
   "metadata": {},
   "source": [
    "<span style=\"background-color: #FFFF00\">Fill in later once have a bit more data analysis finished. Treat like an Abstract!</span>"
   ]
  },
  {
   "cell_type": "markdown",
   "metadata": {},
   "source": [
    "# Names\n",
    "\n",
    "- Alexander Schonken (A13331901)\n",
    "- Jeffrey Chu        (A13613249)\n",
    "- Jennifer Dich      (A14230996)\n",
    "- Owen Clinton       (A13340650)"
   ]
  },
  {
   "cell_type": "markdown",
   "metadata": {},
   "source": [
    "# Research Question"
   ]
  },
  {
   "cell_type": "markdown",
   "metadata": {},
   "source": [
    "The question our group is trying to answer is: <b>What factors contribute to the types of crime committed in Los Angeles within a specific area throughout the day/night?</b> We also want to address what a data driven response would look like. One specific example we want to look into is whether street light coverage or a greater police presence contribute to lower overall crime rates in neighborhoods at night. We will use this data to consider whether moving police patrols to areas with less streetlight coverage would lead to a reduction in overall crime."
   ]
  },
  {
   "cell_type": "markdown",
   "metadata": {},
   "source": [
    "## Background and Prior Work"
   ]
  },
  {
   "cell_type": "markdown",
   "metadata": {},
   "source": [
    "The datasets that we’re planning on using consist of streetlight data for the city of Los Angeles in combination with as much police data we can gather on locations where officers are called, the types of crimes committed, data on arrests made, and where officers stop people consistently. These datasets used together will help lead us to a more holistic view of the situation we are trying to analyze. Each of the datasets does not necessarily hold all of the data the others do in a homogenous way (i.e. some are missing years) but by increasing the amount of datasets we use and inferring connections based off of the data present, a clear picture will be painted and our call to action on what practices need to be put in place to increase the safety of Los Angeles will be backed up by valid data.\n",
    "\n",
    "Before starting our exploratory data analysis of datasets we found on the subject, we don’t know a lot about the topic besides the inherent feeling of safety one gets when you’re in an area with street lights compared to a dark street. So our starting hypothesis is mainly based off of intuition and personal experience. The datasets we’ve found so far have a lot of information within them besides just location data, so we’ll have a very wide view of this narrow topic which we’ll be able to continually narrow our scope to reveal interesting answers and insightful conclusions.  \n",
    "\n",
    "We weren’t able to find any other projects asking questions about the correlation between streetlights and police officer patrol locations. Our project seems to be fairly unique in the intersectionality of the data we’re using to reveal interesting insights into public safety. However, there have been projects created about streetlights and their affects on the number of crimes per year. An example of this is the report by Kinder Rice Institute for Urban Research that goes into how it was very difficult to recommend that cities increase streetlights to directly combat crime. Interestingly, on the other side of the argument is a research paper by CrimeLab New York in 2019 that found a significant drop in index crimes consisting of murder, aggravated assault, and other more \"deadly\" crimes. In addition to that finding, the paper also found that citizens living in the areas that received the lighting improvements were very pleased to have the additional infastructure in their neighborhoods. So the correlation between increasing street lighting and lowering crimes was very positively correlated in addition to the side effect of increasing the general happiness of citizens in the area.  \n",
    "\n",
    "Since the research, that our group has been able to find, presents conclusions landing on both sides of the benefits of increasing street lighting to hep combat crime, our team's queston which more specifically focuses on police patrol positions relative to these well-lit areas should shed some new light on the subject and lead to increased insight on an apparently contested matter. Hopefully our project is able to contribute to the public good of Los Angeles (and by extension other cities) by discovering ways to increase the city's safety without increasing costs for taxpayers.\n",
    "\n",
    "<b>References (include links):</b> \n",
    "<br>1) Kinder Rice Institute for Urban Researc - What Happens in the Shadows: Streetlights and How They Relate To Crime:\n",
    "<br>https://kinder.rice.edu/sites/g/files/bxs1676/f/documents/Kinder%20Streetlights%20and%20Crime%20report.pdf\n",
    "<br>2) CrimeLab New York - \"Can Street Lighting Reduce Crime?\":\n",
    "<br>https://urbanlabs.uchicago.edu/projects/crime-lights-study"
   ]
  },
  {
   "cell_type": "markdown",
   "metadata": {},
   "source": [
    "# Hypothesis\n"
   ]
  },
  {
   "cell_type": "markdown",
   "metadata": {},
   "source": [
    "We hypothesize that areas with more street light coverage will have less overall crime than areas with less coverage. Therefore leading to a minimal need for police to monitor those areas, it will allow them the freedom to expand their range to cover areas that are less safe. "
   ]
  },
  {
   "cell_type": "markdown",
   "metadata": {},
   "source": [
    "# Datasets"
   ]
  },
  {
   "cell_type": "markdown",
   "metadata": {},
   "source": [
    "Dataset Name: Crime Data from 2010 to Present\n",
    "- Link to the dataset: https://data.lacity.org/api/views/63jg-8b9z/rows.csv?accessType=DOWNLOAD\n",
    "- Number of observations:2.09 million\n",
    "- Description: LA city's dataset of crime starting in 2010. It includes all of the crime reports made within LA city during that time.\n",
    "\n",
    "Dataset Name: Arrest Data from 2010 to Present\n",
    "- Link to the dataset: https://data.lacity.org/api/views/yru6-6re4/rows.csv?accessType=DOWNLOAD\n",
    "- Number of observations: 1.32 million\n",
    "- Description: LA city's dataset of arrests starting in 2010. It includes booking data for all arrests made within LA city during that time.\n",
    "\n",
    "Dataset Name: Zillow Home Value Index\n",
    "- Link to the dataset: http://files.zillowstatic.com/research/public/Zip/Zip_Zhvi_Summary_AllHomes.csv\n",
    "- Number of observations: 15744\n",
    "- Description: Zillow's home value index dataset sorted by ZIP code. It includes all of the median house values in a certain ZIP code.  \n",
    "\n",
    "Dataset Name: Median List Price per Square Foot\n",
    "- Link to the dataset: http://files.zillowstatic.com/research/public/Zip/Zip_MedianListingPricePerSqft_AllHomes.csv\n",
    "- Number of observations: 15744\n",
    "- Description: Zillow's dataset including the median list price per square foot for houses in different ZIP codes.\n",
    "\n",
    "Dataset Name: Streetlight Locations\n",
    "- Link to the dataset: https://data.lacity.org/api/geospatial/9ei6-svt8?method=export&format=GeoJSON\n",
    "- Number of observations: 216738\n",
    "- Description: Point locations of all the streelights managed by LA city.\n",
    "\n",
    "Dataset Name: Los Angeles City Zip Codes\n",
    "- Link to the dataset: https://opendata.arcgis.com/datasets/875d540d71e64b8696cc368865c2b640_0.geojson\n",
    "- Number of observations: 157\n",
    "- Description: Geo data for ZIP codes within the city of LA.\n",
    "\n",
    "Dataset Name: LA County ZIP Code\n",
    "- Link to the dataset: https://opendata.arcgis.com/datasets/70748ba37ecc418891e052e800437681_5.geojson\n",
    "- Number of observations: 316\n",
    "- Description: Geo data for ZIP codes within LA county.\n",
    "\n",
    "Dataset Name: 2010 Census Populations by Zip Code\n",
    "- Link to the dataset: https://data.lacity.org/api/views/nxs9-385f/rows.csv?accessType=DOWNLOAD\n",
    "- Number of observations: 319\n",
    "- Description: Dataset including population within ZIP codes of LA county.\n",
    "\n",
    "We will use the crime and arrest datasets joined with the zip code datasets to analyze the amount of crime in each ZIP code of LA. We will tie this data to the streetlight locations to see if the amount of streetlights in a given zip code affect the amount of crime. The population and home value datasets are there so we can add controls to the crime data."
   ]
  },
  {
   "cell_type": "markdown",
   "metadata": {},
   "source": [
    "# Setup"
   ]
  },
  {
   "cell_type": "markdown",
   "metadata": {},
   "source": [
    "<h1> To Do:</h1>\n",
    "\n",
    "- Median population age verticle bar in vega graphs\n",
    "- Change the house value to median house sold price"
   ]
  },
  {
   "cell_type": "code",
   "execution_count": 49,
   "metadata": {},
   "outputs": [
    {
     "data": {
      "text/plain": [
       "DataTransformerRegistry.enable('default')"
      ]
     },
     "execution_count": 49,
     "metadata": {},
     "output_type": "execute_result"
    }
   ],
   "source": [
    "# Imports\n",
    "\n",
    "%matplotlib inline\n",
    "\n",
    "import numpy as np\n",
    "import pandas as pd\n",
    "import matplotlib.pyplot as plt\n",
    "import seaborn as sns\n",
    "import folium\n",
    "import folium.plugins as plugins\n",
    "import shapely\n",
    "import os\n",
    "\n",
    "# Need to pip install\n",
    "import altair as alt\n",
    "import geopandas as gpd\n",
    "\n",
    "# Configure libraries\n",
    "\n",
    "# Setup seaborn\n",
    "sns.set()\n",
    "sns.set_context('talk')\n",
    "\n",
    "# Change options for displaying DataFrames\n",
    "pd.options.display.max_rows = 7\n",
    "pd.options.display.max_columns = 50\n",
    "\n",
    "# Round decimals in DataFrames\n",
    "pd.set_option('precision', 2)\n",
    "\n",
    "# Allow altair to display graphs in notebook\n",
    "alt.renderers.enable('notebook')\n",
    "\n",
    "#Setup altair to save graphs to external file\n",
    "#def json_dir(data, data_dir = 'altairdata'):\n",
    "    #os.makedirs(data_dir, exist_ok = True)\n",
    "    #return alt.pipe(data, alt.to_json(filename = data_dir + '/{prefix}-{hash}.{extension}'))\n",
    "#alt.data_transformers.register('json_dir', json_dir)\n",
    "#alt.data_transformers.enable('json_dir', data_dir = 'mydata')\n",
    "alt.data_transformers.disable_max_rows()"
   ]
  },
  {
   "cell_type": "markdown",
   "metadata": {},
   "source": [
    "File Paths for all the Datasets"
   ]
  },
  {
   "cell_type": "code",
   "execution_count": 2,
   "metadata": {},
   "outputs": [],
   "source": [
    "LAArrestDataPath = r'ProjectData/LAArrestData.csv'\n",
    "LACrimeDataPath = r'ProjectData/LACrimeData.csv'\n",
    "LAStreetlightLocationPath = r'ProjectData/LAStreetlightLocations.geojson'\n",
    "HomeValuePath = r'ProjectData/MedianPricePerSquareFoot.csv'\n",
    "LAZipCodesPath = r'ProjectData/LAZipCodes.geojson'\n",
    "LAZipCodePopulationPath = r'ProjectData/LAPopulationbyZipCode.csv'\n",
    "LACityZipCodesPath = r'ProjectData/LACityZipCodes.geojson'"
   ]
  },
  {
   "cell_type": "markdown",
   "metadata": {},
   "source": [
    "Initialize all datasets into geopandas and pandas dataframes"
   ]
  },
  {
   "cell_type": "code",
   "execution_count": 3,
   "metadata": {},
   "outputs": [],
   "source": [
    "arrests = pd.read_csv(LAArrestDataPath)\n",
    "crimes = pd.read_csv(LACrimeDataPath)\n",
    "homeValue = pd.read_csv(HomeValuePath)\n",
    "populations = pd.read_csv(LAZipCodePopulationPath)\n",
    "streetlights = gpd.read_file(LAStreetlightLocationPath)\n",
    "zipCodes = gpd.read_file(LAZipCodesPath)\n",
    "cityzipCodes = gpd.read_file(LACityZipCodesPath)"
   ]
  },
  {
   "cell_type": "markdown",
   "metadata": {},
   "source": [
    "# Data Cleaning"
   ]
  },
  {
   "cell_type": "markdown",
   "metadata": {},
   "source": [
    "Drop columns and put crimes location into same format as arrests"
   ]
  },
  {
   "cell_type": "code",
   "execution_count": 4,
   "metadata": {},
   "outputs": [],
   "source": [
    "arrests = arrests.drop(['Area ID','Area Name','Charge Group Code',\n",
    "                        'Arrest Type Code','Charge','Address',\n",
    "                        'Cross Street','Charge Description'], axis = 1)\n",
    "\n",
    "crimes['Location'] = '(' + crimes['LAT'].map(str) + ', ' + crimes['LON'].map(str) + ')'\n",
    "\n",
    "crimes = crimes.drop(['Date Rptd','AREA ','AREA NAME','Part 1-2','Crm Cd',\n",
    "                      'Mocodes','Premis Cd','Premis Desc','Weapon Used Cd',\n",
    "                      'Weapon Desc','Status','Crm Cd 1','Crm Cd 2','Crm Cd 3',\n",
    "                      'Crm Cd 4','LOCATION','Cross Street','LON','LAT'], axis = 1)\n",
    "\n",
    "arrests.columns = ['Report ID','Date','Time','Reporting District', \n",
    "                  'Arrest Age','Arrest Sex','Arrest Descent',\n",
    "                   'Arrest Description','Location']\n",
    "crimes.columns = ['Report ID','Date','Time','Reporting District',\n",
    "                  'Crime Description','Victim Age','Victim Sex',\n",
    "                  'Victim Descent','Status','Location']"
   ]
  },
  {
   "cell_type": "markdown",
   "metadata": {},
   "source": [
    "Drop Nan data"
   ]
  },
  {
   "cell_type": "code",
   "execution_count": 5,
   "metadata": {},
   "outputs": [],
   "source": [
    "arrests = arrests.dropna(subset = ['Time', 'Arrest Age', 'Arrest Sex', 'Arrest Descent', 'Arrest Description'])\n",
    "crimes = crimes.dropna(subset = ['Time', 'Crime Description', 'Victim Age', 'Victim Sex', 'Victim Descent'])"
   ]
  },
  {
   "cell_type": "markdown",
   "metadata": {},
   "source": [
    "Convert string location points to geometry for geopandas"
   ]
  },
  {
   "cell_type": "code",
   "execution_count": 6,
   "metadata": {},
   "outputs": [],
   "source": [
    "def string_to_point(string):\n",
    "    string_tuple = tuple(map(float, string.replace('(','').replace(')','').split(',')))\n",
    "    point = shapely.geometry.Point(string_tuple[1],string_tuple[0])\n",
    "    return point"
   ]
  },
  {
   "cell_type": "code",
   "execution_count": 7,
   "metadata": {},
   "outputs": [],
   "source": [
    "arrestsgeometry = arrests['Location'].apply(string_to_point)\n",
    "crimesgeometry = crimes['Location'].apply(string_to_point)"
   ]
  },
  {
   "cell_type": "markdown",
   "metadata": {},
   "source": [
    "Add Zip Codes to crimes and arrest and streetlight dataframe"
   ]
  },
  {
   "cell_type": "code",
   "execution_count": 8,
   "metadata": {},
   "outputs": [],
   "source": [
    "arrests_geo =  gpd.GeoDataFrame(arrests['Report ID'], geometry = arrestsgeometry)\n",
    "crimes_geo = gpd.GeoDataFrame(crimes['Report ID'], geometry = crimesgeometry)\n",
    "\n",
    "arrests_geo.crs = zipCodes.crs\n",
    "crimes_geo.crs = zipCodes.crs"
   ]
  },
  {
   "cell_type": "code",
   "execution_count": 9,
   "metadata": {
    "scrolled": false
   },
   "outputs": [],
   "source": [
    "arrestswithzip = gpd.sjoin(arrests_geo,zipCodes, how = 'inner', op = 'within')\n",
    "crimeswithzip = gpd.sjoin(crimes_geo, zipCodes, how = 'inner', op = 'within')\n",
    "streetlights = gpd.sjoin(streetlights, zipCodes, how = 'inner', op = 'within')"
   ]
  },
  {
   "cell_type": "code",
   "execution_count": 10,
   "metadata": {},
   "outputs": [],
   "source": [
    "arrestsmergeframe = pd.DataFrame(arrestswithzip)\n",
    "crimesmergeframe = pd.DataFrame(crimeswithzip)"
   ]
  },
  {
   "cell_type": "code",
   "execution_count": 11,
   "metadata": {},
   "outputs": [],
   "source": [
    "arrests = pd.merge(arrests, arrestsmergeframe, on = 'Report ID')\n",
    "crimes = pd.merge(crimes, crimesmergeframe, on = 'Report ID')"
   ]
  },
  {
   "cell_type": "code",
   "execution_count": 12,
   "metadata": {},
   "outputs": [],
   "source": [
    "arrests = arrests.drop(['OBJECTID','index_right'], axis = 1)\n",
    "crimes = crimes.drop(['OBJECTID','index_right'], axis = 1)"
   ]
  },
  {
   "cell_type": "code",
   "execution_count": 13,
   "metadata": {},
   "outputs": [],
   "source": [
    "streetlightsdf = pd.DataFrame(streetlights)"
   ]
  },
  {
   "cell_type": "markdown",
   "metadata": {},
   "source": [
    "Change time to actual time variables"
   ]
  },
  {
   "cell_type": "code",
   "execution_count": 14,
   "metadata": {},
   "outputs": [],
   "source": [
    "def gethour(integer):\n",
    "    return int(integer/100)"
   ]
  },
  {
   "cell_type": "code",
   "execution_count": 15,
   "metadata": {},
   "outputs": [],
   "source": [
    "arrests['Time'] = arrests['Time'].astype(int)"
   ]
  },
  {
   "cell_type": "code",
   "execution_count": 16,
   "metadata": {},
   "outputs": [],
   "source": [
    "crimes['Hour'] = crimes['Time'].apply(gethour)\n",
    "arrests['Hour'] = arrests['Time'].apply(gethour)"
   ]
  },
  {
   "cell_type": "markdown",
   "metadata": {},
   "source": [
    "Make a list of unique zipcodes"
   ]
  },
  {
   "cell_type": "code",
   "execution_count": 17,
   "metadata": {},
   "outputs": [],
   "source": [
    "crimesarray = crimes['ZIPCODE'].unique()\n",
    "arrestsarray = arrests['ZIPCODE'].unique()"
   ]
  },
  {
   "cell_type": "code",
   "execution_count": 18,
   "metadata": {},
   "outputs": [],
   "source": [
    "zipCodeArray = list(set(crimesarray) | set(arrestsarray))"
   ]
  },
  {
   "cell_type": "code",
   "execution_count": 19,
   "metadata": {},
   "outputs": [],
   "source": [
    "zipCodedf = pd.DataFrame(zipCodeArray, columns = ['Zip'])"
   ]
  },
  {
   "cell_type": "markdown",
   "metadata": {},
   "source": [
    "Only include housing, population data where stuff happens"
   ]
  },
  {
   "cell_type": "code",
   "execution_count": 20,
   "metadata": {},
   "outputs": [],
   "source": [
    "homeValue['Zip'] = homeValue['RegionName'].astype(str)\n",
    "populations['Zip'] = populations['Zip Code'].astype(str)"
   ]
  },
  {
   "cell_type": "code",
   "execution_count": 21,
   "metadata": {},
   "outputs": [],
   "source": [
    "homeValue = pd.merge(zipCodedf, homeValue, how = 'left', on = 'Zip')\n",
    "populations = pd.merge(zipCodedf, populations, how = 'left', on = 'Zip')"
   ]
  },
  {
   "cell_type": "code",
   "execution_count": 22,
   "metadata": {},
   "outputs": [],
   "source": [
    "homeValue = homeValue.fillna(0)\n",
    "populations = populations.fillna(0)"
   ]
  },
  {
   "cell_type": "markdown",
   "metadata": {},
   "source": [
    "Add area to zip code geodataframes"
   ]
  },
  {
   "cell_type": "code",
   "execution_count": 23,
   "metadata": {},
   "outputs": [],
   "source": [
    "cityzipCodes['Area'] = cityzipCodes['geometry'].to_crs({'init': 'epsg:3395'}).map(lambda p: p.area / 10**6)"
   ]
  },
  {
   "cell_type": "markdown",
   "metadata": {},
   "source": [
    "Change one letter description strings in crimes and arrests dataframes to what they represent"
   ]
  },
  {
   "cell_type": "code",
   "execution_count": 24,
   "metadata": {},
   "outputs": [],
   "source": [
    "def sexToString(string):\n",
    "    if string == 'F':\n",
    "        return 'Female'\n",
    "    elif string == 'M':\n",
    "        return 'Male'\n",
    "    else:\n",
    "        return 'Unknown'\n",
    "descentDict = {\n",
    "    'A': 'Other Asian',\n",
    "    'B': 'Black',\n",
    "    'C': 'Chinese',\n",
    "    'D': 'Cambodian',\n",
    "    'F': 'Filipino',\n",
    "    'G': 'Guamanian',\n",
    "    'H': 'Hispanic/Latin/Mexican',\n",
    "    'I': 'American Indian/Alaskan Native',\n",
    "    'J': 'Japanese',\n",
    "    'K': 'Korean',\n",
    "    'L': 'Laotian',\n",
    "    'O': 'Other',\n",
    "    'P': 'Pacific Islander',\n",
    "    'S': 'Samoan',\n",
    "    'U': 'Hawaiian',\n",
    "    'V': 'Vietnamese',\n",
    "    'W': 'White',\n",
    "    'X': 'Unknown',\n",
    "    'Z': 'Asian Indian',\n",
    "    '-': 'Unknown'\n",
    "}\n",
    "def descentToString(string):\n",
    "    return descentDict[string]"
   ]
  },
  {
   "cell_type": "code",
   "execution_count": 25,
   "metadata": {},
   "outputs": [],
   "source": [
    "arrests['Arrest Sex'] = arrests['Arrest Sex'].apply(sexToString)\n",
    "crimes['Victim Sex'] = crimes['Victim Sex'].apply(sexToString)\n",
    "arrests['Arrest Descent'] = arrests['Arrest Descent'].apply(descentToString)\n",
    "crimes['Victim Descent'] = crimes['Victim Descent'].apply(descentToString)"
   ]
  },
  {
   "cell_type": "markdown",
   "metadata": {},
   "source": [
    "# Data Analysis & Results"
   ]
  },
  {
   "cell_type": "markdown",
   "metadata": {},
   "source": [
    "- 3 maps \n",
    "- 1 choropleth with counts popup including total, population, #streetlights, house value\n",
    "- 1 heatmap with time\n",
    "- 1 choropleth with popup graphs\n",
    "\n",
    "- statistical analysis of streetlights"
   ]
  },
  {
   "cell_type": "markdown",
   "metadata": {},
   "source": [
    "<b>We will start off with a couple mapped visualizations of our data</b>"
   ]
  },
  {
   "cell_type": "markdown",
   "metadata": {},
   "source": [
    "To do this we first tally up the total amount of crimes and arrests committed and made in each zip code"
   ]
  },
  {
   "cell_type": "code",
   "execution_count": 26,
   "metadata": {},
   "outputs": [],
   "source": [
    "crimeCountDict = crimes['ZIPCODE'].value_counts()\n",
    "arrestCountDict = arrests['ZIPCODE'].value_counts()\n",
    "streetlightsDict = streetlightsdf['ZIPCODE'].value_counts()"
   ]
  },
  {
   "cell_type": "code",
   "execution_count": 27,
   "metadata": {},
   "outputs": [],
   "source": [
    "crimeCounts = pd.DataFrame.from_dict(crimeCountDict).reset_index()\n",
    "arrestCounts = pd.DataFrame.from_dict(arrestCountDict).reset_index()\n",
    "streetlightsCounts = pd.DataFrame.from_dict(streetlightsDict).reset_index()"
   ]
  },
  {
   "cell_type": "code",
   "execution_count": 28,
   "metadata": {},
   "outputs": [],
   "source": [
    "crimeCounts.columns = ['Zip','Crime Count']\n",
    "arrestCounts.columns = ['Zip', 'Arrest Count']\n",
    "streetlightsCounts.columns = ['Zip', 'Streetlight Count']"
   ]
  },
  {
   "cell_type": "code",
   "execution_count": 29,
   "metadata": {},
   "outputs": [],
   "source": [
    "counts = pd.merge(crimeCounts, arrestCounts, how = 'outer', on = 'Zip')\n",
    "counts = pd.merge(counts, streetlightsCounts, how = 'left', on = 'Zip')"
   ]
  },
  {
   "cell_type": "code",
   "execution_count": 30,
   "metadata": {},
   "outputs": [],
   "source": [
    "counts = counts.fillna(0)"
   ]
  },
  {
   "cell_type": "code",
   "execution_count": 31,
   "metadata": {},
   "outputs": [],
   "source": [
    "counts['Total'] = counts['Crime Count'] + counts['Arrest Count']"
   ]
  },
  {
   "cell_type": "markdown",
   "metadata": {},
   "source": [
    "We then map out each zip code and add pop ups to each one to display data for each zip code"
   ]
  },
  {
   "cell_type": "code",
   "execution_count": 32,
   "metadata": {},
   "outputs": [
    {
     "data": {
      "text/plain": [
       "<folium.map.LayerControl at 0x1a1e90de248>"
      ]
     },
     "execution_count": 32,
     "metadata": {},
     "output_type": "execute_result"
    }
   ],
   "source": [
    "choroplethPopup = folium.Map([34.055862, -118.326904], max_zoom = 12)\n",
    "zipcodeLayer = folium.FeatureGroup(name = 'Zip Codes')\n",
    "transparent = {'fillColor': '#00000000', 'color': '#00000000'}\n",
    "folium.Choropleth(\n",
    "    geo_data = cityzipCodes,\n",
    "    name = 'Choropleth',\n",
    "    data = counts,\n",
    "    columns = ['Zip', 'Total'],\n",
    "    key_on = 'feature.properties.ZIPCODE',\n",
    "    fill_color = 'BuPu',\n",
    "    fill_opacity = 0.7,\n",
    "    line_opacity = 0.2,\n",
    "    legend_name = 'Total Crimes').add_to(choroplethPopup)\n",
    "\n",
    "for i in zipCodeArray:\n",
    "    datarow = counts.where(counts['Zip'] == i).dropna().iloc[0]\n",
    "    gs = folium.GeoJson(zipCodes.loc[zipCodes['ZIPCODE'] == i], style_function = lambda x: transparent)\n",
    "    zipCodelabel = i\n",
    "    crimeslabel = datarow['Crime Count']\n",
    "    arrestslabel = datarow['Arrest Count']\n",
    "    totallabel = datarow['Total']\n",
    "    populationlabel = populations.where(populations['Zip'] == i).dropna().iloc[0]['Total Population']\n",
    "    homeValuelabel = int(homeValue.where(homeValue['Zip'] == i).dropna().iloc[0]['2019-10'])\n",
    "    streetlightslabel = datarow['Streetlight Count']\n",
    "    popuphtml = \"\"\"\n",
    "            <html>\n",
    "                <body>\n",
    "                    <h1>%s</h1>\n",
    "                    <p>Number of Crimes Commited: %s</p>\n",
    "                    <p>Number of Arrests Made: %s</p>\n",
    "                    <p>Total: %s</p>\n",
    "                    <p>Median Home Price Per Square Foot: %s</p>\n",
    "                    <p>Population: %s</p>\n",
    "                    <p>Number of Streetlights: %s</p>\n",
    "                </body>\n",
    "            </html>\"\"\"%(zipCodelabel, str(crimeslabel), str(arrestslabel), str(totallabel), \n",
    "                        str(homeValuelabel), str(populationlabel), str(streetlightslabel))\n",
    "    folium.Popup(popuphtml,max_width = 250, sticky = True).add_to(gs)\n",
    "    gs.add_to(zipcodeLayer)\n",
    "choroplethPopup.add_child(zipcodeLayer)\n",
    "folium.LayerControl().add_to(choroplethPopup)"
   ]
  },
  {
   "cell_type": "code",
   "execution_count": 33,
   "metadata": {},
   "outputs": [],
   "source": [
    "choroplethPopup.save('LabeledChoropleth.html')"
   ]
  },
  {
   "cell_type": "markdown",
   "metadata": {},
   "source": [
    "Next we move on to a dynamic heatmap of crime activity"
   ]
  },
  {
   "cell_type": "code",
   "execution_count": 34,
   "metadata": {},
   "outputs": [],
   "source": [
    "crimesHeatMap = crimes[['Report ID', 'Location', 'Hour']]\n",
    "arrestsHeatMap = arrests[['Report ID', 'Location', 'Hour']]"
   ]
  },
  {
   "cell_type": "code",
   "execution_count": 35,
   "metadata": {},
   "outputs": [],
   "source": [
    "heatMap  = pd.merge(crimesHeatMap, arrestsHeatMap, how = 'outer', on = ['Report ID', 'Location', 'Hour'])"
   ]
  },
  {
   "cell_type": "code",
   "execution_count": 36,
   "metadata": {},
   "outputs": [],
   "source": [
    "heatMap['Hour'] = heatMap['Hour'].replace(24.0, 0.0)"
   ]
  },
  {
   "cell_type": "code",
   "execution_count": 37,
   "metadata": {},
   "outputs": [],
   "source": [
    "heatMap['Lat'], heatMap['Lon'] = heatMap['Location'].str.split(',').str"
   ]
  },
  {
   "cell_type": "code",
   "execution_count": 38,
   "metadata": {},
   "outputs": [],
   "source": [
    "heatMap['Lat'] = heatMap['Lat'].str.replace('(','').astype(float)\n",
    "heatMap['Lon'] = heatMap['Lon'].str.replace(')','').astype(float)"
   ]
  },
  {
   "cell_type": "code",
   "execution_count": 39,
   "metadata": {},
   "outputs": [],
   "source": [
    "heatMap['count'] = 1"
   ]
  },
  {
   "cell_type": "code",
   "execution_count": 40,
   "metadata": {},
   "outputs": [],
   "source": [
    "hoursofday = ['00:00', '01:00', '02:00', '03:00', '04:00', '05:00', \n",
    "              '06:00', '07:00', '08:00', '09:00', '10:00', '11:00',\n",
    "              '12:00', '13:00', '14:00', '15:00', '16:00', '17:00',\n",
    "              '18:00', '19:00', '20:00', '21:00', '22:00', '23:00']"
   ]
  },
  {
   "cell_type": "code",
   "execution_count": 41,
   "metadata": {},
   "outputs": [],
   "source": [
    "hourList = []\n",
    "for i in heatMap.Hour.sort_values().unique():\n",
    "    hourList.append(heatMap.loc[heatMap.Hour == i, ['Lat', 'Lon', 'count']].groupby(['Lat', 'Lon']).sum().reset_index().values.tolist())"
   ]
  },
  {
   "cell_type": "code",
   "execution_count": 42,
   "metadata": {},
   "outputs": [
    {
     "data": {
      "text/plain": [
       "<folium.plugins.heat_map_withtime.HeatMapWithTime at 0x1a22d01ac88>"
      ]
     },
     "execution_count": 42,
     "metadata": {},
     "output_type": "execute_result"
    }
   ],
   "source": [
    "timeHeatMap = folium.Map([34.055862, -118.326904], max_zoom = 12)\n",
    "plugins.HeatMapWithTime(\n",
    "    hourList,\n",
    "    index = hoursofday,\n",
    "    radius = 5,\n",
    "    gradient = {0.2: 'blue', 0.4: 'lime', 0.6: 'orange', 1: 'red'},\n",
    "    min_opacity = 0.5,\n",
    "    max_opacity = 0.8,\n",
    "    use_local_extrema = True\n",
    "    ).add_to(timeHeatMap)"
   ]
  },
  {
   "cell_type": "code",
   "execution_count": 43,
   "metadata": {},
   "outputs": [],
   "source": [
    "timeHeatMap.save('HeatMap.html')"
   ]
  },
  {
   "cell_type": "markdown",
   "metadata": {},
   "source": [
    "Now we make charts of our data and put them on the map"
   ]
  },
  {
   "cell_type": "code",
   "execution_count": 44,
   "metadata": {},
   "outputs": [],
   "source": [
    "crimesChartFrame = crimes[['Victim Age', 'Victim Sex', 'Victim Descent', 'Crime Description', 'ZIPCODE']]\n",
    "arrestsChartFrame = arrests[['Arrest Age', 'Arrest Sex', 'Arrest Descent', 'Arrest Description', 'ZIPCODE']]"
   ]
  },
  {
   "cell_type": "code",
   "execution_count": 83,
   "metadata": {},
   "outputs": [],
   "source": [
    "interestingzipCodes = [90003, 90028, 90210, 90291, 90042, 90005, 90012]"
   ]
  },
  {
   "cell_type": "code",
   "execution_count": 84,
   "metadata": {},
   "outputs": [],
   "source": [
    "ageSexDict = {}\n",
    "\n",
    "for i in interestingzipCodes:\n",
    "    crime_frame = crimesChartFrame.where(crimesChartFrame['ZIPCODE'] == str(i)).dropna()\n",
    "    arrest_frame = arrestsChartFrame.where(arrestsChartFrame['ZIPCODE'] == str(i)).dropna()\n",
    "    population_frame = populations.where(populations['Zip'] == str(i)).dropna()\n",
    "    \n",
    "    rule = alt.Chart(population_frame).mark_rule(color = 'red').encode(\n",
    "        x = 'Median Age:O'\n",
    "    ).properties(width = 300)\n",
    "\n",
    "    crimesAgeSexChart = alt.Chart(crime_frame).mark_bar().encode(\n",
    "        x = 'Victim Age:O',\n",
    "        y = 'count(Victim Age):Q', color = 'Victim Sex'\n",
    "    ).transform_filter(\n",
    "        alt.FieldGTPredicate(field = 'Victim Age', gt = 0)\n",
    "    ).properties(height = 200,width = 300)\n",
    "    \n",
    "    crimesSexes = alt.Chart(crime_frame).mark_bar().encode(\n",
    "        x = 'count()',\n",
    "        y = 'Victim Sex:O',\n",
    "        color = 'Victim Sex'\n",
    "    ).properties(height = 200, width = 100)\n",
    "    \n",
    "    arrestsAgeSexChart = alt.Chart(arrest_frame).mark_bar().encode(\n",
    "        x = 'Arrest Age:O',\n",
    "        y = 'count(Arrest Age):Q', color = 'Arrest Sex'\n",
    "    ).transform_filter(\n",
    "        alt.FieldGTPredicate(field = 'Arrest Age', gt = 0)\n",
    "    ).properties(height = 200, width = 300)\n",
    "    \n",
    "    arrestsSexes = alt.Chart(arrest_frame).mark_bar().encode(\n",
    "        x = 'count()',\n",
    "        y = 'Arrest Sex:O',\n",
    "        color = 'Arrest Sex'\n",
    "    ).properties(height = 200, width = 100)\n",
    "    \n",
    "    x = alt.layer(crimesAgeSexChart, rule)|crimesSexes\n",
    "    y = alt.layer(arrestsAgeSexChart, rule)|arrestsSexes\n",
    "    ageSexDict[i] = x&y"
   ]
  },
  {
   "cell_type": "code",
   "execution_count": 85,
   "metadata": {},
   "outputs": [],
   "source": [
    "ageDescentDict = {}\n",
    "for i in interestingzipCodes:\n",
    "    crime_frame = crimesChartFrame.where(crimesChartFrame['ZIPCODE'] == str(i)).dropna()\n",
    "    arrest_frame = arrestsChartFrame.where(arrestsChartFrame['ZIPCODE'] == str(i)).dropna()\n",
    "    population_frame = populations.where(populations['Zip'] == str(i)).dropna()\n",
    "    \n",
    "    rule = alt.Chart(population_frame).mark_rule(color = 'red').encode(\n",
    "        x = 'Median Age:O'\n",
    "    ).properties(width = 300)\n",
    "    \n",
    "    crimesAgeDescentChart = alt.Chart(crime_frame).mark_bar().encode(\n",
    "        x = 'Victim Age:O',\n",
    "        y = 'count(Victim Age):Q', color = 'Victim Descent'\n",
    "    ).transform_filter(\n",
    "        alt.FieldGTPredicate(field = 'Victim Age', gt = 0)\n",
    "    ).properties(height = 200, width = 300)\n",
    "    \n",
    "    crimesDescents = alt.Chart(crime_frame).mark_bar().encode(\n",
    "        x = 'count()',\n",
    "        y = 'Victim Descent:O',\n",
    "        color = 'Victim Descent'\n",
    "    ).properties(height = 200, width = 100)\n",
    "    \n",
    "    arrestsAgeDescentChart = alt.Chart(arrest_frame).mark_bar().encode(\n",
    "        x = 'Arrest Age:O',\n",
    "        y = 'count(Arrest Age):Q', color = 'Arrest Descent'\n",
    "    ).transform_filter(\n",
    "        alt.FieldGTPredicate(field = 'Arrest Age', gt = 0)\n",
    "    ).properties(height = 200, width = 300)\n",
    "    \n",
    "    arrestsDescents = alt.Chart(arrest_frame).mark_bar().encode(\n",
    "        x = 'count()',\n",
    "        y = 'Arrest Descent:O',\n",
    "        color = 'Arrest Descent'\n",
    "    ).properties(height = 200, width = 100)\n",
    "    \n",
    "    x = alt.layer(crimesAgeDescentChart, rule)|crimesDescents\n",
    "    y = alt.layer(arrestsAgeDescentChart, rule)|arrestsDescents\n",
    "    ageDescentDict[i] = x&y"
   ]
  },
  {
   "cell_type": "code",
   "execution_count": 86,
   "metadata": {},
   "outputs": [],
   "source": [
    "descriptionDict = {}\n",
    "for i in interestingzipCodes:\n",
    "    crime_frame = crimesChartFrame.where(crimesChartFrame['ZIPCODE'] == str(i)).dropna()\n",
    "    arrest_frame = arrestsChartFrame.where(arrestsChartFrame['ZIPCODE'] == str(i)).dropna()\n",
    "    \n",
    "    crimeDescChart = alt.Chart(crime_frame).transform_aggregate(\n",
    "        count = 'count()',\n",
    "        groupby = ['Crime Description']\n",
    "    ).transform_window(\n",
    "        rank = 'rank(count)',\n",
    "        sort = [alt.SortField('count', order = 'descending')]\n",
    "    ).mark_bar().encode(\n",
    "        x = alt.X('Crime Description:O',\n",
    "                 sort = alt.EncodingSortField(field = 'count',\n",
    "                                             op = 'sum',\n",
    "                                             order = 'descending')),\n",
    "        y = alt.Y('count:Q')\n",
    "    ).transform_filter(\n",
    "        alt.datum.rank < 5\n",
    "    ).properties(height = 200, width = 300)\n",
    "    \n",
    "    arrestDescChart = alt.Chart(arrest_frame).transform_aggregate(\n",
    "        count = 'count()',\n",
    "        groupby = ['Arrest Description']\n",
    "    ).transform_window(\n",
    "        rank = 'rank(count)',\n",
    "        sort = [alt.SortField('count', order = 'descending')]\n",
    "    ).mark_bar().encode(\n",
    "        x = alt.X('Arrest Description:O',\n",
    "                 sort = alt.EncodingSortField(field = 'count',\n",
    "                                             op = 'sum',\n",
    "                                             order = 'descending')),\n",
    "        y = alt.Y('count:Q')\n",
    "    ).transform_filter(\n",
    "        alt.datum.rank < 5\n",
    "    ).properties(height = 200, width = 300)\n",
    "    \n",
    "    descriptionDict[i] = crimeDescChart | arrestDescChart"
   ]
  },
  {
   "cell_type": "code",
   "execution_count": 87,
   "metadata": {},
   "outputs": [
    {
     "data": {
      "text/plain": [
       "<folium.map.LayerControl at 0x1a8aaf06c88>"
      ]
     },
     "execution_count": 87,
     "metadata": {},
     "output_type": "execute_result"
    }
   ],
   "source": [
    "choroplethGraph = folium.Map([34.055862, -118.326904], max_zoom = 12)\n",
    "ageSexLayer = folium.FeatureGroup(name = 'Age vs Sex', show = False)\n",
    "ageDescentLayer = folium.FeatureGroup(name = 'Age vs Descent', show = False)\n",
    "descriptionLayer = folium.FeatureGroup(name = 'Descriptions')\n",
    "transparent = {'fillColor': '#00000000', 'color': '#00000000'}\n",
    "folium.Choropleth(\n",
    "    geo_data = cityzipCodes,\n",
    "    name = 'Choropleth',\n",
    "    data = counts,\n",
    "    columns = ['Zip', 'Total'],\n",
    "    key_on = 'feature.properties.ZIPCODE',\n",
    "    fill_color = 'BuPu',\n",
    "    fill_opacity = 0.7,\n",
    "    line_opacity = 0.2,\n",
    "    legend_name = 'Total Crimes').add_to(choroplethGraph)\n",
    "\n",
    "for i in interestingzipCodes:\n",
    "    gsAS = folium.GeoJson(cityzipCodes.loc[cityzipCodes['ZIP'] == i])\n",
    "    gsAD = folium.GeoJson(cityzipCodes.loc[cityzipCodes['ZIP'] == i])\n",
    "    gsD = folium.GeoJson(cityzipCodes.loc[cityzipCodes['ZIP'] == i])\n",
    "    zipCodelabel = str(i)\n",
    "    folium.Popup(max_width = 750, sticky = True).add_child(\n",
    "        folium.VegaLite(ageSexDict[i], width = 750, height = 400)).add_to(gsAS)\n",
    "    folium.Popup(max_width = 750, sticky = True).add_child(\n",
    "        folium.VegaLite(ageDescentDict[i], width = 750, height = 400)).add_to(gsAD)\n",
    "    folium.Popup(max_width = 750, sticky = True).add_child(\n",
    "        folium.VegaLite(descriptionDict[i], width = 700, height = 200)).add_to(gsD)\n",
    "    ageSexLayer.add_child(gsAS)\n",
    "    ageDescentLayer.add_child(gsAD)\n",
    "    descriptionLayer.add_child(gsD)\n",
    "    \n",
    "    \n",
    "choroplethGraph.add_child(ageSexLayer)\n",
    "choroplethGraph.add_child(ageDescentLayer)\n",
    "choroplethGraph.add_child(descriptionLayer)\n",
    "folium.LayerControl().add_to(choroplethGraph)"
   ]
  },
  {
   "cell_type": "code",
   "execution_count": 88,
   "metadata": {},
   "outputs": [],
   "source": [
    "choroplethGraph.save('GraphsChoropleth.html')"
   ]
  },
  {
   "cell_type": "markdown",
   "metadata": {},
   "source": [
    "# Ethics & Privacy"
   ]
  },
  {
   "cell_type": "markdown",
   "metadata": {},
   "source": [
    "Our objective is not to identify and analyze crimes, but only to retrieve data of the location of the crimes. We are observing whether the rate of crimes are reduced in relation to the presence of streetlights, resulting in a lower amount of police patrol in the area. Because the data in question was released publicly, a majority of private information regarding the identity of the perpetrator of the crime was removed. The police stop data only includes the arrested’s age, sex, and descent as personal identifiers, none of which breach the standards set by the Safe Harbour Method of data anonymization. Although unique identifiers have been removed for privacy concerns, the data that remains in our analyses may possibly be affected by racial and socioeconomic biases in relation to the area of the crimes committed. It is important to consider the idea that the tendency of criminals in one area to be of a certain ethnicity in our data is intrinsically linked to socioeconomic factors of the location in question. "
   ]
  },
  {
   "cell_type": "markdown",
   "metadata": {},
   "source": [
    "# Conclusion & Discussion"
   ]
  },
  {
   "cell_type": "markdown",
   "metadata": {},
   "source": [
    "*Fill in your discussion information here*"
   ]
  }
 ],
 "metadata": {
  "kernelspec": {
   "display_name": "Python 3",
   "language": "python",
   "name": "python3"
  },
  "language_info": {
   "codemirror_mode": {
    "name": "ipython",
    "version": 3
   },
   "file_extension": ".py",
   "mimetype": "text/x-python",
   "name": "python",
   "nbconvert_exporter": "python",
   "pygments_lexer": "ipython3",
   "version": "3.7.4"
  }
 },
 "nbformat": 4,
 "nbformat_minor": 2
}
