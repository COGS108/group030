{
 "cells": [
  {
   "cell_type": "markdown",
   "metadata": {},
   "source": [
    "# COGS 108 - Final Project - Crime Watch Effectiveness and Distribution"
   ]
  },
  {
   "cell_type": "markdown",
   "metadata": {},
   "source": [
    "# Overview"
   ]
  },
  {
   "cell_type": "markdown",
   "metadata": {},
   "source": [
    "<span style=\"background-color: #FFFF00\">Fill in later once have a bit more data analysis finished</span>"
   ]
  },
  {
   "cell_type": "markdown",
   "metadata": {},
   "source": [
    "# Names\n",
    "\n",
    "- Alexander Schonken\n",
    "- Jeffrey Chu\n",
    "- Jennifer Dich\n",
    "- Owen Clinton"
   ]
  },
  {
   "cell_type": "markdown",
   "metadata": {},
   "source": [
    "# Group Members IDs\n",
    "\n",
    "- A13331901\n",
    "- A13613249\n",
    "- A14230996\n",
    "- A13340650"
   ]
  },
  {
   "cell_type": "markdown",
   "metadata": {},
   "source": [
    "# Research Question"
   ]
  },
  {
   "cell_type": "markdown",
   "metadata": {},
   "source": [
    "The question our group is trying to answer is: <b>What factors contribute to the types of crime committed in Los Angeles within a specific area throughout the day/night?</b> We also want to address what a data driven response would look like. One specific example we want to look into is whether street light coverage or a greater police presence contribute to lower overall crime rates in neighborhoods at night. We will use this data to consider whether moving police patrols to areas with less streetlight coverage would lead to a reduction in overall crime."
   ]
  },
  {
   "cell_type": "markdown",
   "metadata": {},
   "source": [
    "## Background and Prior Work"
   ]
  },
  {
   "cell_type": "markdown",
   "metadata": {},
   "source": [
    "The datasets that we’re planning on using consist of streetlight data for the city of Los Angeles in combination with as much police data we can gather on locations where officers are called, the types of crimes committed, data on arrests made, and where officers stop people consistently. These datasets used together will help lead us to a more holistic view of the situation we are trying to analyze. Each of the datasets does not necessarily hold all of the data the others do in a homogenous way (i.e. some are missing years) but by increasing the amount of datasets we use and inferring connections based off of the data present, a clear picture will be painted and our call to action on what practices need to be put in place to increase the safety of Los Angeles will be backed up by valid data.\n",
    "\n",
    "Before starting our exploratory data analysis of datasets we found on the subject, we don’t know a lot about the topic besides the inherent feeling of safety one gets when you’re in an area with street lights compared to a dark street. So our starting hypothesis is mainly based off of intuition and personal experience. The datasets we’ve found so far have a lot of information within them besides just location data, so we’ll have a very wide view of this narrow topic which we’ll be able to continually narrow our scope to reveal interesting answers and insightful conclusions.  \n",
    "\n",
    "We weren’t able to find any other projects asking questions about the correlation between streetlights and police officer patrol locations. Our project seems to be fairly unique in the intersectionality of the data we’re using to reveal interesting insights into public safety. However, there have been projects created about streetlights and their affects on the number of crimes per year. An example of this is the report by Kinder Rice Institute for Urban Research that goes into how it was very difficult to recommend that cities increase streetlights to directly combat crime. Interestingly, on the other side of the argument is a research paper by CrimeLab New York in 2019 that found a significant drop in index crimes consisting of murder, aggravated assault, and other more \"deadly\" crimes. In addition to that finding, the paper also found that citizens living in the areas that received the lighting improvements were very pleased to have the additional infastructure in their neighborhoods. So the correlation between increasing street lighting and lowering crimes was very positively correlated in addition to the side effect of increasing the general happiness of citizens in the area.  \n",
    "\n",
    "Since the research, that our group has been able to find, presents conclusions landing on both sides of the benefits of increasing street lighting to hep combat crime, our team's queston which more specifically focuses on police patrol positions relative to these well-lit areas should shed some new light on the subject and lead to increased insight on an apparently contested matter. Hopefully our project is able to contribute to the public good of Los Angeles (and by extension other cities) by discovering ways to increase the city's safety without increasing costs for taxpayers.\n",
    "\n",
    "References (include links):\n",
    "1) Kinder Rice Institute for Urban Researc - What Happens in the Shadows: Streetlights and How They Relate To Crime\n",
    "https://kinder.rice.edu/sites/g/files/bxs1676/f/documents/Kinder%20Streetlights%20and%20Crime%20report.pdf\n",
    "\n",
    "2) CrimeLab New York - \"Can Street Lighting Reduce Crime?\":\n",
    "https://urbanlabs.uchicago.edu/projects/crime-lights-study"
   ]
  },
  {
   "cell_type": "markdown",
   "metadata": {},
   "source": [
    "# Hypothesis\n"
   ]
  },
  {
   "cell_type": "markdown",
   "metadata": {},
   "source": [
    "We hypothesize that areas with more street light coverage will have less overall crime than areas with less coverage. Therefore leading to a minimal need for police to monitor those areas, it will allow them the freedom to expand their range to cover areas that are less safe. "
   ]
  },
  {
   "cell_type": "markdown",
   "metadata": {},
   "source": [
    "# Dataset(s)"
   ]
  },
  {
   "cell_type": "markdown",
   "metadata": {},
   "source": [
    "*Fill in your dataset information here*\n",
    "\n",
    "(Copy this information for each dataset)\n",
    "- Dataset Name:\n",
    "- Link to the dataset:\n",
    "- Number of observations:\n",
    "\n",
    "1-2 sentences describing each dataset. \n",
    "\n",
    "If you plan to use multiple datasets, add 1-2 sentences about how you plan to combine these datasets."
   ]
  },
  {
   "cell_type": "markdown",
   "metadata": {},
   "source": [
    "# Setup"
   ]
  },
  {
   "cell_type": "code",
   "execution_count": 80,
   "metadata": {},
   "outputs": [
    {
     "data": {
      "text/plain": [
       "DataTransformerRegistry.enable('json_dir')"
      ]
     },
     "execution_count": 80,
     "metadata": {},
     "output_type": "execute_result"
    }
   ],
   "source": [
    "# Imports\n",
    "\n",
    "%matplotlib inline\n",
    "\n",
    "import numpy as np\n",
    "import pandas as pd\n",
    "import matplotlib.pyplot as plt\n",
    "import seaborn as sns\n",
    "import folium\n",
    "import folium.plugins as plugins\n",
    "import shapely\n",
    "import os\n",
    "\n",
    "# Need to pip install\n",
    "import altair as alt\n",
    "import geopandas as gpd\n",
    "\n",
    "# Configure libraries\n",
    "\n",
    "# Setup seaborn\n",
    "sns.set()\n",
    "sns.set_context('talk')\n",
    "\n",
    "# Change options for displaying DataFrames\n",
    "pd.options.display.max_rows = 7\n",
    "pd.options.display.max_columns = 50\n",
    "\n",
    "# Round decimals in DataFrames\n",
    "pd.set_option('precision', 2)\n",
    "\n",
    "# Allow altair to display graphs in notebook\n",
    "alt.renderers.enable('notebook')\n",
    "\n",
    "# Setup altair to save graphs to external file\n",
    "def json_dir(data, data_dir = 'altairdata'):\n",
    "    os.makedirs(data_dir, exits_ok = True)\n",
    "    return alt.pipe(data, alto.to_json(filename = data_dir + '/{prefix}-{hash}.{extension}'))\n",
    "alt.data_transformers.register('json_dir', json_dir)\n",
    "alt.data_transformers.enable('json_dir', data_dir = 'mydata')"
   ]
  },
  {
   "cell_type": "markdown",
   "metadata": {},
   "source": [
    "File Paths for all the Datasets"
   ]
  },
  {
   "cell_type": "code",
   "execution_count": 2,
   "metadata": {},
   "outputs": [],
   "source": [
    "LAArrestDataPath = r'ProjectData/LAArrestData.csv'\n",
    "LACrimeDataPath = r'ProjectData/LACrimeData.csv'\n",
    "LAStreetlightLocationPath = r'ProjectData/LAStreetlightLocations.geojson'\n",
    "LADistrictsPath = r'ProjectData/LADistricts.geojson'\n",
    "HomeValuePath = r'ProjectData/MedianPricePerSquareFoot.csv'\n",
    "LAZipCodesPath = r'ProjectData/LAZipCodes.geojson'\n",
    "LAZipCodePopulationPath = r'ProjectData/LAPopulationbyZipCode.csv'\n",
    "LACityZipCodesPath = r'ProjectData/LACityZipCodes.geojson'"
   ]
  },
  {
   "cell_type": "markdown",
   "metadata": {},
   "source": [
    "Initialize all datasets into geopandas and pandas dataframes"
   ]
  },
  {
   "cell_type": "code",
   "execution_count": 3,
   "metadata": {},
   "outputs": [],
   "source": [
    "arrests = pd.read_csv(LAArrestDataPath)\n",
    "crimes = pd.read_csv(LACrimeDataPath)\n",
    "homeValue = pd.read_csv(HomeValuePath)\n",
    "populations = pd.read_csv(LAZipCodePopulationPath)\n",
    "streetlights = gpd.read_file(LAStreetlightLocationPath)\n",
    "districts = gpd.read_file(LADistrictsPath)\n",
    "zipCodes = gpd.read_file(LAZipCodesPath)\n",
    "cityzipCodes = gpd.read_file(LACityZipCodesPath)"
   ]
  },
  {
   "cell_type": "markdown",
   "metadata": {},
   "source": [
    "# Data Cleaning"
   ]
  },
  {
   "cell_type": "markdown",
   "metadata": {},
   "source": [
    "Drop columns and put crimes location into same format as arrests"
   ]
  },
  {
   "cell_type": "code",
   "execution_count": 4,
   "metadata": {},
   "outputs": [],
   "source": [
    "arrests = arrests.drop(['Area ID','Area Name','Charge Group Code',\n",
    "                        'Arrest Type Code','Charge','Address',\n",
    "                        'Cross Street','Charge Description'], axis = 1)"
   ]
  },
  {
   "cell_type": "code",
   "execution_count": 5,
   "metadata": {},
   "outputs": [],
   "source": [
    "crimes['Location'] = '(' + crimes['LAT'].map(str) + ', ' + crimes['LON'].map(str) + ')'"
   ]
  },
  {
   "cell_type": "code",
   "execution_count": 6,
   "metadata": {},
   "outputs": [],
   "source": [
    "crimes = crimes.drop(['Date Rptd','AREA ','AREA NAME','Part 1-2','Crm Cd',\n",
    "                      'Mocodes','Premis Cd','Premis Desc','Weapon Used Cd',\n",
    "                      'Weapon Desc','Status','Crm Cd 1','Crm Cd 2','Crm Cd 3',\n",
    "                      'Crm Cd 4','LOCATION','Cross Street','LON','LAT'], axis = 1)"
   ]
  },
  {
   "cell_type": "code",
   "execution_count": 7,
   "metadata": {},
   "outputs": [],
   "source": [
    "arrests.columns = ['Report ID','Date','Time','Reporting District', \n",
    "                  'Arrest Age','Arrest Sex','Arrest Descent',\n",
    "                   'Description','Location']\n",
    "crimes.columns = ['Report ID','Date','Time','Reporting District',\n",
    "                  'Crime Description','Victim Age','Victim Sex',\n",
    "                  'Victim Descent','Status','Location']"
   ]
  },
  {
   "cell_type": "markdown",
   "metadata": {},
   "source": [
    "Drop Nan data"
   ]
  },
  {
   "cell_type": "code",
   "execution_count": 8,
   "metadata": {},
   "outputs": [],
   "source": [
    "arrests = arrests.dropna(subset = ['Time', 'Arrest Age', 'Arrest Sex', 'Arrest Descent', 'Description'])"
   ]
  },
  {
   "cell_type": "code",
   "execution_count": 9,
   "metadata": {},
   "outputs": [],
   "source": [
    "crimes = crimes.dropna(subset = ['Time', 'Crime Description', 'Victim Age', 'Victim Sex', 'Victim Descent'])"
   ]
  },
  {
   "cell_type": "markdown",
   "metadata": {},
   "source": [
    "Convert string location points to geometry for geopandas"
   ]
  },
  {
   "cell_type": "code",
   "execution_count": 10,
   "metadata": {},
   "outputs": [],
   "source": [
    "def string_to_point(string):\n",
    "    string_tuple = tuple(map(float, string.replace('(','').replace(')','').split(',')))\n",
    "    point = shapely.geometry.Point(string_tuple[1],string_tuple[0])\n",
    "    return point"
   ]
  },
  {
   "cell_type": "code",
   "execution_count": 11,
   "metadata": {},
   "outputs": [],
   "source": [
    "arrestsgeometry = arrests['Location'].apply(string_to_point)\n",
    "crimesgeometry = crimes['Location'].apply(string_to_point)"
   ]
  },
  {
   "cell_type": "markdown",
   "metadata": {},
   "source": [
    "Add Zip Codes to crimes and arrest and streetlight dataframe"
   ]
  },
  {
   "cell_type": "code",
   "execution_count": 12,
   "metadata": {},
   "outputs": [],
   "source": [
    "arrests_geo =  gpd.GeoDataFrame(arrests['Report ID'], geometry = arrestsgeometry)\n",
    "crimes_geo = gpd.GeoDataFrame(crimes['Report ID'], geometry = crimesgeometry)"
   ]
  },
  {
   "cell_type": "code",
   "execution_count": 13,
   "metadata": {},
   "outputs": [],
   "source": [
    "arrests_geo.crs = zipCodes.crs\n",
    "crimes_geo.crs = zipCodes.crs"
   ]
  },
  {
   "cell_type": "code",
   "execution_count": 14,
   "metadata": {
    "scrolled": false
   },
   "outputs": [],
   "source": [
    "arrestswithzip = gpd.sjoin(arrests_geo,zipCodes, how = 'inner', op = 'within')\n",
    "crimeswithzip = gpd.sjoin(crimes_geo, zipCodes, how = 'inner', op = 'within')\n",
    "streetlights = gpd.sjoin(streetlights, zipCodes, how = 'inner', op = 'within')"
   ]
  },
  {
   "cell_type": "code",
   "execution_count": 15,
   "metadata": {},
   "outputs": [],
   "source": [
    "arrestsmergeframe = pd.DataFrame(arrestswithzip)\n",
    "crimesmergeframe = pd.DataFrame(crimeswithzip)"
   ]
  },
  {
   "cell_type": "code",
   "execution_count": 16,
   "metadata": {},
   "outputs": [],
   "source": [
    "arrests = pd.merge(arrests, arrestsmergeframe, on = 'Report ID')\n",
    "crimes = pd.merge(crimes, crimesmergeframe, on = 'Report ID')"
   ]
  },
  {
   "cell_type": "code",
   "execution_count": 17,
   "metadata": {},
   "outputs": [],
   "source": [
    "arrests = arrests.drop(['OBJECTID','index_right'], axis = 1)\n",
    "crimes = crimes.drop(['OBJECTID','index_right'], axis = 1)"
   ]
  },
  {
   "cell_type": "code",
   "execution_count": 18,
   "metadata": {},
   "outputs": [],
   "source": [
    "streetlightsdf = pd.DataFrame(streetlights)"
   ]
  },
  {
   "cell_type": "markdown",
   "metadata": {},
   "source": [
    "Change time to actual time variables"
   ]
  },
  {
   "cell_type": "code",
   "execution_count": 19,
   "metadata": {},
   "outputs": [],
   "source": [
    "def gethour(integer):\n",
    "    return int(integer/100)"
   ]
  },
  {
   "cell_type": "code",
   "execution_count": 20,
   "metadata": {},
   "outputs": [],
   "source": [
    "arrests['Time'] = arrests['Time'].astype(int)"
   ]
  },
  {
   "cell_type": "code",
   "execution_count": 21,
   "metadata": {},
   "outputs": [],
   "source": [
    "crimes['Hour'] = crimes['Time'].apply(gethour)\n",
    "arrests['Hour'] = arrests['Time'].apply(gethour)"
   ]
  },
  {
   "cell_type": "markdown",
   "metadata": {},
   "source": [
    "Make a list of unique zipcodes"
   ]
  },
  {
   "cell_type": "code",
   "execution_count": 22,
   "metadata": {},
   "outputs": [],
   "source": [
    "crimesarray = crimes['ZIPCODE'].unique()\n",
    "arrestsarray = arrests['ZIPCODE'].unique()"
   ]
  },
  {
   "cell_type": "code",
   "execution_count": 23,
   "metadata": {},
   "outputs": [],
   "source": [
    "zipCodeArray = list(set(crimesarray) | set(arrestsarray))"
   ]
  },
  {
   "cell_type": "code",
   "execution_count": 24,
   "metadata": {},
   "outputs": [],
   "source": [
    "zipCodedf = pd.DataFrame(zipCodeArray, columns = ['Zip'])"
   ]
  },
  {
   "cell_type": "markdown",
   "metadata": {},
   "source": [
    "Only include housing, population data where stuff happens"
   ]
  },
  {
   "cell_type": "code",
   "execution_count": 25,
   "metadata": {},
   "outputs": [],
   "source": [
    "homeValue['Zip'] = homeValue['RegionName'].astype(str)"
   ]
  },
  {
   "cell_type": "code",
   "execution_count": 26,
   "metadata": {},
   "outputs": [],
   "source": [
    "populations['Zip'] = populations['Zip Code'].astype(str)"
   ]
  },
  {
   "cell_type": "code",
   "execution_count": 27,
   "metadata": {},
   "outputs": [],
   "source": [
    "homeValue = pd.merge(zipCodedf, homeValue, how = 'left', on = 'Zip')"
   ]
  },
  {
   "cell_type": "code",
   "execution_count": 28,
   "metadata": {},
   "outputs": [],
   "source": [
    "populations = pd.merge(zipCodedf, populations, how = 'left', on = 'Zip')"
   ]
  },
  {
   "cell_type": "code",
   "execution_count": 29,
   "metadata": {},
   "outputs": [],
   "source": [
    "homeValue = homeValue.fillna(0)"
   ]
  },
  {
   "cell_type": "code",
   "execution_count": 30,
   "metadata": {},
   "outputs": [],
   "source": [
    "populations = populations.fillna(0)"
   ]
  },
  {
   "cell_type": "markdown",
   "metadata": {},
   "source": [
    "Add area to zip code geodataframes"
   ]
  },
  {
   "cell_type": "code",
   "execution_count": 42,
   "metadata": {},
   "outputs": [],
   "source": [
    "cityzipCodes['Area'] = cityzipCodes['geometry'].to_crs({'init': 'epsg:3395'}).map(lambda p: p.area / 10**6)"
   ]
  },
  {
   "cell_type": "markdown",
   "metadata": {},
   "source": [
    "# Data Analysis & Results"
   ]
  },
  {
   "cell_type": "markdown",
   "metadata": {},
   "source": [
    "- 3 maps \n",
    "- 1 choropleth with counts popup including total, population, #streetlights, house value\n",
    "- 1 heatmap with time\n",
    "- 1 choropleth with popup graphs\n",
    "\n",
    "- statistical analysis of streetlights"
   ]
  },
  {
   "cell_type": "markdown",
   "metadata": {},
   "source": [
    "We will start off with a couple mapped visualizations of our data"
   ]
  },
  {
   "cell_type": "markdown",
   "metadata": {},
   "source": [
    "To do this we first tally up the total amount of crimes and arrests committed and made in each zip code"
   ]
  },
  {
   "cell_type": "code",
   "execution_count": 32,
   "metadata": {},
   "outputs": [],
   "source": [
    "crimeCountDict = crimes['ZIPCODE'].value_counts()\n",
    "arrestCountDict = arrests['ZIPCODE'].value_counts()\n",
    "streetlightsDict = streetlightsdf['ZIPCODE'].value_counts()"
   ]
  },
  {
   "cell_type": "code",
   "execution_count": 33,
   "metadata": {},
   "outputs": [],
   "source": [
    "crimeCounts = pd.DataFrame.from_dict(crimeCountDict).reset_index()\n",
    "arrestCounts = pd.DataFrame.from_dict(arrestCountDict).reset_index()\n",
    "streetlightsCounts = pd.DataFrame.from_dict(streetlightsDict).reset_index()"
   ]
  },
  {
   "cell_type": "code",
   "execution_count": 34,
   "metadata": {},
   "outputs": [],
   "source": [
    "crimeCounts.columns = ['Zip','Crime Count']\n",
    "arrestCounts.columns = ['Zip', 'Arrest Count']\n",
    "streetlightsCounts.columns = ['Zip', 'Streetlight Count']"
   ]
  },
  {
   "cell_type": "code",
   "execution_count": 35,
   "metadata": {},
   "outputs": [],
   "source": [
    "counts = pd.merge(crimeCounts, arrestCounts, how = 'outer', on = 'Zip')\n",
    "counts = pd.merge(counts, streetlightsCounts, how = 'left', on = 'Zip')"
   ]
  },
  {
   "cell_type": "code",
   "execution_count": 36,
   "metadata": {},
   "outputs": [],
   "source": [
    "counts = counts.fillna(0)"
   ]
  },
  {
   "cell_type": "code",
   "execution_count": 37,
   "metadata": {},
   "outputs": [],
   "source": [
    "counts['Total'] = counts['Crime Count'] + counts['Arrest Count']"
   ]
  },
  {
   "cell_type": "markdown",
   "metadata": {},
   "source": [
    "We then map out each zip code and add pop ups to each one to display data for each zip code"
   ]
  },
  {
   "cell_type": "code",
   "execution_count": 38,
   "metadata": {},
   "outputs": [
    {
     "data": {
      "text/plain": [
       "<folium.map.LayerControl at 0x22823daaa08>"
      ]
     },
     "execution_count": 38,
     "metadata": {},
     "output_type": "execute_result"
    }
   ],
   "source": [
    "choroplethPopup = folium.Map([34.055862, -118.326904])\n",
    "zipcodeLayer = folium.FeatureGroup(name = 'Zip Codes')\n",
    "transparent = {'fillColor': '#00000000', 'color': '#00000000'}\n",
    "folium.Choropleth(\n",
    "    geo_data = cityzipCodes,\n",
    "    name = 'Choropleth',\n",
    "    data = counts,\n",
    "    columns = ['Zip', 'Total'],\n",
    "    key_on = 'feature.properties.ZIPCODE',\n",
    "    fill_color = 'BuPu',\n",
    "    fill_opacity = 0.7,\n",
    "    line_opacity = 0.2,\n",
    "    legend_name = 'Total Crimes').add_to(choroplethPopup)\n",
    "\n",
    "for i in zipCodeArray:\n",
    "    datarow = counts.where(counts['Zip'] == i).dropna().iloc[0]\n",
    "    gs = folium.GeoJson(zipCodes.loc[zipCodes['ZIPCODE'] == i], style_function = lambda x: transparent)\n",
    "    zipCodelabel = i\n",
    "    crimeslabel = datarow['Crime Count']\n",
    "    arrestslabel = datarow['Arrest Count']\n",
    "    totallabel = datarow['Total']\n",
    "    populationlabel = populations.where(populations['Zip'] == i).dropna().iloc[0]['Total Population']\n",
    "    homeValuelabel = int(homeValue.where(homeValue['Zip'] == i).dropna().iloc[0]['2019-10'])\n",
    "    streetlightslabel = datarow['Streetlight Count']\n",
    "    popuphtml = \"\"\"\n",
    "            <html>\n",
    "                <body>\n",
    "                    <h1>%s</h1>\n",
    "                    <p>Number of Crimes Commited: %s</p>\n",
    "                    <p>Number of Arrests Made: %s</p>\n",
    "                    <p>Total: %s</p>\n",
    "                    <p>Median Home Price Per Square Foot: %s</p>\n",
    "                    <p>Population: %s</p>\n",
    "                    <p>Number of Streetlights: %s</p>\n",
    "                </body>\n",
    "            </html>\"\"\"%(zipCodelabel, str(crimeslabel), str(arrestslabel), str(totallabel), \n",
    "                        str(homeValuelabel), str(populationlabel), str(streetlightslabel))\n",
    "    folium.Popup(popuphtml,max_width = 250).add_to(gs)\n",
    "    gs.add_to(zipcodeLayer)\n",
    "choroplethPopup.add_child(zipcodeLayer)\n",
    "folium.LayerControl().add_to(choroplethPopup)"
   ]
  },
  {
   "cell_type": "code",
   "execution_count": 138,
   "metadata": {},
   "outputs": [],
   "source": [
    "choroplethPopup.save('LabeledChoropleth.html')"
   ]
  },
  {
   "cell_type": "markdown",
   "metadata": {},
   "source": [
    "Next we move on to a dynamic heatmap of crime activity"
   ]
  },
  {
   "cell_type": "code",
   "execution_count": 64,
   "metadata": {},
   "outputs": [],
   "source": [
    "crimesHeatMap = crimes[['Report ID', 'Location', 'Hour']]\n",
    "arrestsHeatMap = arrests[['Report ID', 'Location', 'Hour']]"
   ]
  },
  {
   "cell_type": "code",
   "execution_count": 65,
   "metadata": {},
   "outputs": [],
   "source": [
    "heatMap  = pd.merge(crimesHeatMap, arrestsHeatMap, how = 'outer', on = ['Report ID', 'Location', 'Hour'])"
   ]
  },
  {
   "cell_type": "code",
   "execution_count": 106,
   "metadata": {},
   "outputs": [],
   "source": [
    "heatMap['Hour'] = heatMap['Hour'].replace(24.0, 0.0)"
   ]
  },
  {
   "cell_type": "code",
   "execution_count": 107,
   "metadata": {},
   "outputs": [],
   "source": [
    "heatMap['Lat'], heatMap['Lon'] = heatMap['Location'].str.split(',').str"
   ]
  },
  {
   "cell_type": "code",
   "execution_count": 108,
   "metadata": {},
   "outputs": [],
   "source": [
    "heatMap['Lat'] = heatMap['Lat'].str.replace('(','').astype(float)\n",
    "heatMap['Lon'] = heatMap['Lon'].str.replace(')','').astype(float)"
   ]
  },
  {
   "cell_type": "code",
   "execution_count": 109,
   "metadata": {},
   "outputs": [],
   "source": [
    "heatMap['count'] = 1"
   ]
  },
  {
   "cell_type": "code",
   "execution_count": 110,
   "metadata": {},
   "outputs": [],
   "source": [
    "hourList = []\n",
    "for i in heatMap.Hour.sort_values().unique():\n",
    "    hourList.append(heatMap.loc[heatMap.Hour == i, ['Lat', 'Lon', 'count']].groupby(['Lat', 'Lon']).sum().reset_index().values.tolist())"
   ]
  },
  {
   "cell_type": "code",
   "execution_count": 136,
   "metadata": {},
   "outputs": [
    {
     "data": {
      "text/plain": [
       "<folium.plugins.heat_map_withtime.HeatMapWithTime at 0x22930dfc848>"
      ]
     },
     "execution_count": 136,
     "metadata": {},
     "output_type": "execute_result"
    }
   ],
   "source": [
    "timeHeatMap = folium.Map([34.055862, -118.326904])\n",
    "plugins.HeatMapWithTime(\n",
    "    hourList,\n",
    "    radius = 5,\n",
    "    gradient = {0.2: 'blue', 0.4: 'lime', 0.6: 'orange', 1: 'red'},\n",
    "    min_opacity = 0.5,\n",
    "    max_opacity = 0.8,\n",
    "    use_local_extrema = True\n",
    "    ).add_to(timeHeatMap)"
   ]
  },
  {
   "cell_type": "code",
   "execution_count": 139,
   "metadata": {},
   "outputs": [],
   "source": [
    "timeHeatMap.save('HeatMap.html')"
   ]
  },
  {
   "cell_type": "markdown",
   "metadata": {},
   "source": [
    "Now we make charts of our data and put them on the map"
   ]
  },
  {
   "cell_type": "code",
   "execution_count": null,
   "metadata": {},
   "outputs": [],
   "source": [
    "chartDict = {}\n",
    "for i in cityzipCodes['ZIP']:\n",
    "    "
   ]
  },
  {
   "cell_type": "code",
   "execution_count": 143,
   "metadata": {},
   "outputs": [
    {
     "data": {
      "text/html": [
       "<div>\n",
       "<style scoped>\n",
       "    .dataframe tbody tr th:only-of-type {\n",
       "        vertical-align: middle;\n",
       "    }\n",
       "\n",
       "    .dataframe tbody tr th {\n",
       "        vertical-align: top;\n",
       "    }\n",
       "\n",
       "    .dataframe thead th {\n",
       "        text-align: right;\n",
       "    }\n",
       "</style>\n",
       "<table border=\"1\" class=\"dataframe\">\n",
       "  <thead>\n",
       "    <tr style=\"text-align: right;\">\n",
       "      <th></th>\n",
       "      <th>Report ID</th>\n",
       "      <th>Date</th>\n",
       "      <th>Time</th>\n",
       "      <th>Reporting District</th>\n",
       "      <th>Arrest Age</th>\n",
       "      <th>Arrest Sex</th>\n",
       "      <th>Arrest Descent</th>\n",
       "      <th>Description</th>\n",
       "      <th>Location</th>\n",
       "      <th>geometry</th>\n",
       "      <th>ZIPCODE</th>\n",
       "      <th>Hour</th>\n",
       "    </tr>\n",
       "  </thead>\n",
       "  <tbody>\n",
       "    <tr>\n",
       "      <td>0</td>\n",
       "      <td>5614161</td>\n",
       "      <td>04/29/2019</td>\n",
       "      <td>1040</td>\n",
       "      <td>842</td>\n",
       "      <td>41</td>\n",
       "      <td>M</td>\n",
       "      <td>H</td>\n",
       "      <td>Robbery</td>\n",
       "      <td>(34.0508, -118.4592)</td>\n",
       "      <td>POINT (-118.45920 34.05080)</td>\n",
       "      <td>90025</td>\n",
       "      <td>10</td>\n",
       "    </tr>\n",
       "    <tr>\n",
       "      <td>1</td>\n",
       "      <td>5806609</td>\n",
       "      <td>11/23/2019</td>\n",
       "      <td>1830</td>\n",
       "      <td>457</td>\n",
       "      <td>23</td>\n",
       "      <td>F</td>\n",
       "      <td>H</td>\n",
       "      <td>Robbery</td>\n",
       "      <td>(34.0477, -118.2047)</td>\n",
       "      <td>POINT (-118.20470 34.04770)</td>\n",
       "      <td>90033</td>\n",
       "      <td>18</td>\n",
       "    </tr>\n",
       "    <tr>\n",
       "      <td>2</td>\n",
       "      <td>5615197</td>\n",
       "      <td>04/30/2019</td>\n",
       "      <td>615</td>\n",
       "      <td>663</td>\n",
       "      <td>27</td>\n",
       "      <td>M</td>\n",
       "      <td>O</td>\n",
       "      <td>Burglary</td>\n",
       "      <td>(34.0907, -118.3384)</td>\n",
       "      <td>POINT (-118.33840 34.09070)</td>\n",
       "      <td>90038</td>\n",
       "      <td>6</td>\n",
       "    </tr>\n",
       "    <tr>\n",
       "      <td>...</td>\n",
       "      <td>...</td>\n",
       "      <td>...</td>\n",
       "      <td>...</td>\n",
       "      <td>...</td>\n",
       "      <td>...</td>\n",
       "      <td>...</td>\n",
       "      <td>...</td>\n",
       "      <td>...</td>\n",
       "      <td>...</td>\n",
       "      <td>...</td>\n",
       "      <td>...</td>\n",
       "      <td>...</td>\n",
       "    </tr>\n",
       "    <tr>\n",
       "      <td>1226136</td>\n",
       "      <td>5612940</td>\n",
       "      <td>04/27/2019</td>\n",
       "      <td>2315</td>\n",
       "      <td>1797</td>\n",
       "      <td>42</td>\n",
       "      <td>M</td>\n",
       "      <td>H</td>\n",
       "      <td>Aggravated Assault</td>\n",
       "      <td>(34.2248, -118.4967)</td>\n",
       "      <td>POINT (-118.49670 34.22480)</td>\n",
       "      <td>91343</td>\n",
       "      <td>23</td>\n",
       "    </tr>\n",
       "    <tr>\n",
       "      <td>1226137</td>\n",
       "      <td>5612654</td>\n",
       "      <td>04/27/2019</td>\n",
       "      <td>1555</td>\n",
       "      <td>1832</td>\n",
       "      <td>38</td>\n",
       "      <td>F</td>\n",
       "      <td>H</td>\n",
       "      <td>Aggravated Assault</td>\n",
       "      <td>(33.942, -118.2739)</td>\n",
       "      <td>POINT (-118.27390 33.94200)</td>\n",
       "      <td>90003</td>\n",
       "      <td>15</td>\n",
       "    </tr>\n",
       "    <tr>\n",
       "      <td>1226138</td>\n",
       "      <td>5612691</td>\n",
       "      <td>04/27/2019</td>\n",
       "      <td>1545</td>\n",
       "      <td>1203</td>\n",
       "      <td>32</td>\n",
       "      <td>F</td>\n",
       "      <td>B</td>\n",
       "      <td>Aggravated Assault</td>\n",
       "      <td>(33.9994, -118.3108)</td>\n",
       "      <td>POINT (-118.31080 33.99940)</td>\n",
       "      <td>90062</td>\n",
       "      <td>15</td>\n",
       "    </tr>\n",
       "  </tbody>\n",
       "</table>\n",
       "<p>1226139 rows × 12 columns</p>\n",
       "</div>"
      ],
      "text/plain": [
       "         Report ID        Date  Time  Reporting District  Arrest Age  \\\n",
       "0          5614161  04/29/2019  1040                 842          41   \n",
       "1          5806609  11/23/2019  1830                 457          23   \n",
       "2          5615197  04/30/2019   615                 663          27   \n",
       "...            ...         ...   ...                 ...         ...   \n",
       "1226136    5612940  04/27/2019  2315                1797          42   \n",
       "1226137    5612654  04/27/2019  1555                1832          38   \n",
       "1226138    5612691  04/27/2019  1545                1203          32   \n",
       "\n",
       "        Arrest Sex Arrest Descent         Description              Location  \\\n",
       "0                M              H             Robbery  (34.0508, -118.4592)   \n",
       "1                F              H             Robbery  (34.0477, -118.2047)   \n",
       "2                M              O            Burglary  (34.0907, -118.3384)   \n",
       "...            ...            ...                 ...                   ...   \n",
       "1226136          M              H  Aggravated Assault  (34.2248, -118.4967)   \n",
       "1226137          F              H  Aggravated Assault   (33.942, -118.2739)   \n",
       "1226138          F              B  Aggravated Assault  (33.9994, -118.3108)   \n",
       "\n",
       "                            geometry ZIPCODE  Hour  \n",
       "0        POINT (-118.45920 34.05080)   90025    10  \n",
       "1        POINT (-118.20470 34.04770)   90033    18  \n",
       "2        POINT (-118.33840 34.09070)   90038     6  \n",
       "...                              ...     ...   ...  \n",
       "1226136  POINT (-118.49670 34.22480)   91343    23  \n",
       "1226137  POINT (-118.27390 33.94200)   90003    15  \n",
       "1226138  POINT (-118.31080 33.99940)   90062    15  \n",
       "\n",
       "[1226139 rows x 12 columns]"
      ]
     },
     "execution_count": 143,
     "metadata": {},
     "output_type": "execute_result"
    }
   ],
   "source": [
    "arrests"
   ]
  },
  {
   "cell_type": "markdown",
   "metadata": {},
   "source": [
    "# Ethics & Privacy"
   ]
  },
  {
   "cell_type": "markdown",
   "metadata": {},
   "source": [
    "*Fill in your ethics & privacy discussion here*"
   ]
  },
  {
   "cell_type": "markdown",
   "metadata": {},
   "source": [
    "# Conclusion & Discussion"
   ]
  },
  {
   "cell_type": "markdown",
   "metadata": {},
   "source": [
    "*Fill in your discussion information here*"
   ]
  }
 ],
 "metadata": {
  "kernelspec": {
   "display_name": "Python 3",
   "language": "python",
   "name": "python3"
  },
  "language_info": {
   "codemirror_mode": {
    "name": "ipython",
    "version": 3
   },
   "file_extension": ".py",
   "mimetype": "text/x-python",
   "name": "python",
   "nbconvert_exporter": "python",
   "pygments_lexer": "ipython3",
   "version": "3.6.7"
  }
 },
 "nbformat": 4,
 "nbformat_minor": 2
}
