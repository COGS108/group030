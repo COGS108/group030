{
 "cells": [
  {
   "cell_type": "code",
   "execution_count": 1,
   "metadata": {},
   "outputs": [],
   "source": [
    "# Imports\n",
    "# \n",
    "# Note: these are all the imports you need for this assignment!\n",
    "# Do not import any other functions / packages\n",
    "\n",
    "# Display plots directly in the notebook instead of in a new window\n",
    "%matplotlib inline\n",
    "\n",
    "# Import libraries\n",
    "import numpy as np\n",
    "import pandas as pd\n",
    "import matplotlib.pyplot as plt\n",
    "import seaborn as sns\n",
    "import folium\n",
    "import geopandas as gpd\n",
    "from folium.plugins import MarkerCluster\n",
    "import shapely\n",
    "\n",
    "# Configure libraries\n",
    "# The seaborn library makes plots look nicer\n",
    "sns.set()\n",
    "sns.set_context('talk')\n",
    "\n",
    "# Don't display too many rows/cols of DataFrames\n",
    "pd.options.display.max_rows = 7\n",
    "pd.options.display.max_columns = 8\n",
    "\n",
    "# Round decimals when displaying DataFrames\n",
    "pd.set_option('precision', 2)"
   ]
  },
  {
   "cell_type": "code",
   "execution_count": 2,
   "metadata": {},
   "outputs": [],
   "source": [
    "df_districts = gpd.read_file('SD_Data/pd_beats_datasd.geojson')"
   ]
  },
  {
   "cell_type": "code",
   "execution_count": 3,
   "metadata": {},
   "outputs": [],
   "source": [
    "Total_Crimes = r'SD_Data/Total_Crimes.html'"
   ]
  },
  {
   "cell_type": "code",
   "execution_count": 4,
   "metadata": {
    "scrolled": true
   },
   "outputs": [],
   "source": [
    "Lights = r'SD_Data/Lights.html'\n",
    "some_map = folium.Map(location=[32.7844,-117.1018])\n",
    "\n",
    "df_lights = pd.read_csv('SD_Data/streetlight_locations_datasd_v1.csv')\n",
    "len(df_lights['lat'])\n",
    "\n",
    "mc = MarkerCluster()\n",
    "for i in range(len(df_lights['lat'])):\n",
    "    folium.Marker([df_lights['lat'][i],df_lights['lng'][i]]).add_to(mc)\n",
    "mc.add_to(some_map)\n",
    "some_map.save(Lights)"
   ]
  },
  {
   "cell_type": "code",
   "execution_count": 5,
   "metadata": {},
   "outputs": [
    {
     "name": "stderr",
     "output_type": "stream",
     "text": [
      "/opt/conda/lib/python3.6/site-packages/IPython/core/interactiveshell.py:3020: DtypeWarning: Columns (12) have mixed types. Specify dtype option on import or set low_memory=False.\n",
      "  interactivity=interactivity, compiler=compiler, result=result)\n"
     ]
    }
   ],
   "source": [
    "df_stops = pd.read_csv('SD_Data/ripa_stops_datasd.csv')\n",
    "df_stops = df_stops.drop(['perceived_limited_english','gender_nonconforming','gend','gend_nc','perceived_lgbt'],axis=1)"
   ]
  },
  {
   "cell_type": "code",
   "execution_count": 6,
   "metadata": {},
   "outputs": [
    {
     "name": "stderr",
     "output_type": "stream",
     "text": [
      "/opt/conda/lib/python3.6/site-packages/ipykernel_launcher.py:2: SettingWithCopyWarning: \n",
      "A value is trying to be set on a copy of a slice from a DataFrame.\n",
      "Try using .loc[row_indexer,col_indexer] = value instead\n",
      "\n",
      "See the caveats in the documentation: http://pandas.pydata.org/pandas-docs/stable/user_guide/indexing.html#returning-a-view-versus-a-copy\n",
      "  \n"
     ]
    }
   ],
   "source": [
    "df_count = df_stops[['beat','time_stop']]\n",
    "df_count['count'] = df_count.groupby(['beat']).transform('count')\n",
    "df_count = df_count.sort_values(by=['count'])"
   ]
  },
  {
   "cell_type": "code",
   "execution_count": 7,
   "metadata": {},
   "outputs": [
    {
     "name": "stderr",
     "output_type": "stream",
     "text": [
      "/opt/conda/lib/python3.6/site-packages/ipykernel_launcher.py:2: SettingWithCopyWarning: \n",
      "A value is trying to be set on a copy of a slice from a DataFrame\n",
      "\n",
      "See the caveats in the documentation: http://pandas.pydata.org/pandas-docs/stable/user_guide/indexing.html#returning-a-view-versus-a-copy\n",
      "  \n"
     ]
    }
   ],
   "source": [
    "df_ccounts = df_districts[['beat']]\n",
    "df_ccounts.drop_duplicates(keep='first',inplace=True)\n",
    "df_ccounts = df_ccounts.sort_values(by=['beat'])\n",
    "df_ccounts = df_ccounts.reset_index(drop=True)\n",
    "df_ccounts['count'] = 0"
   ]
  },
  {
   "cell_type": "markdown",
   "metadata": {},
   "source": [
    "Clean data"
   ]
  },
  {
   "cell_type": "code",
   "execution_count": 8,
   "metadata": {},
   "outputs": [],
   "source": [
    "for i in range(len(df_ccounts['beat'])):\n",
    "    if df_ccounts['beat'][i] == None:\n",
    "        continue\n",
    "    beat = df_ccounts['beat'][i]\n",
    "    if df_count['count'].where(df_count['beat'] == beat).max() > df_ccounts['count'][i]:\n",
    "        df_ccounts['count'][i] = df_count['count'].where(df_count['beat'] == beat).max()"
   ]
  },
  {
   "cell_type": "code",
   "execution_count": 9,
   "metadata": {},
   "outputs": [],
   "source": [
    "m = folium.Map([32.7844,-117.1018])\n",
    "folium.Choropleth(\n",
    "    geo_data = df_districts,\n",
    "    name='Choropleth',\n",
    "    data=df_ccounts,\n",
    "    columns=['beat','count'],\n",
    "    key_on='feature.properties.beat',\n",
    "    fill_color='BuPu',\n",
    "    fill_opacity=0.7,\n",
    "    line_opacity=0.2,\n",
    "    legend_name='Total Police Stops').add_to(m)\n",
    "for i in range(len(df_districts)):\n",
    "    gs = folium.GeoJson(df_districts.iloc[i:i+1])\n",
    "    label = df_districts['name'][i]\n",
    "    beat = df_districts['beat'][i]\n",
    "    count = df_ccounts['count'].where(df_ccounts['beat']==beat).max()\n",
    "    folium.Popup('Beat ' + str(beat) + '\\n' + 'Name: ' + label + '\\n' + 'Stops: ' + str(count)).add_to(gs)\n",
    "    gs.add_to(m)\n",
    "m.save(Total_Crimes)"
   ]
  },
  {
   "cell_type": "code",
   "execution_count": 10,
   "metadata": {},
   "outputs": [],
   "source": [
    "Lights = r'SD_Data/Lights.html'"
   ]
  },
  {
   "cell_type": "code",
   "execution_count": 18,
   "metadata": {},
   "outputs": [],
   "source": [
    "lights = folium.Map([32.7844,-117.1018])\n",
    "mc = MarkerCluster()\n",
    "for i in range(len(df_lights['lat'])):\n",
    "    folium.Marker([df_lights['lat'][i],df_lights['lng'][i]]).add_to(mc)\n",
    "mc.add_to(lights)\n",
    "lights.save(Lights)"
   ]
  },
  {
   "cell_type": "code",
   "execution_count": null,
   "metadata": {},
   "outputs": [],
   "source": []
  }
 ],
 "metadata": {
  "kernelspec": {
   "display_name": "Python 3",
   "language": "python",
   "name": "python3"
  },
  "language_info": {
   "codemirror_mode": {
    "name": "ipython",
    "version": 3
   },
   "file_extension": ".py",
   "mimetype": "text/x-python",
   "name": "python",
   "nbconvert_exporter": "python",
   "pygments_lexer": "ipython3",
   "version": "3.6.7"
  }
 },
 "nbformat": 4,
 "nbformat_minor": 2
}
